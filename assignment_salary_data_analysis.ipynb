{
  "nbformat": 4,
  "nbformat_minor": 0,
  "metadata": {
    "colab": {
      "name": "assignment_salary_data_analysis.ipynb",
      "provenance": [],
      "authorship_tag": "ABX9TyP3uvwniSFNs4yiE83BUAH9",
      "include_colab_link": true
    },
    "kernelspec": {
      "name": "python3",
      "display_name": "Python 3"
    },
    "language_info": {
      "name": "python"
    }
  },
  "cells": [
    {
      "cell_type": "markdown",
      "metadata": {
        "id": "view-in-github",
        "colab_type": "text"
      },
      "source": [
        "<a href=\"https://colab.research.google.com/github/Chikkucharlie/Internship/blob/main/assignment_salary_data_analysis.ipynb\" target=\"_parent\"><img src=\"https://colab.research.google.com/assets/colab-badge.svg\" alt=\"Open In Colab\"/></a>"
      ]
    },
    {
      "cell_type": "code",
      "source": [
        "from turtle import color\n",
        "import numpy as np\n",
        "import pandas as pd\n",
        "import matplotlib.pyplot as plt\n",
        "\n",
        "#import dataset\n",
        "\n",
        "data = pd.read_csv('Salary_Data.csv')\n",
        "\n",
        "#print(data)\n",
        "\n",
        "x = data.iloc[:, :-1].values\n",
        "y = data.iloc[:,1].values\n",
        "\n",
        "#splitting dataset\n",
        "\n",
        "from sklearn.model_selection import train_test_split\n",
        "\n",
        "x_train, x_test, y_train, y_test = train_test_split(x,y, test_size = 1/3, random_state = 0)\n",
        "\n",
        "print(x_test)\n",
        "\n",
        "#fitting the model\n",
        "\n",
        "from sklearn.linear_model import LinearRegression\n",
        "\n",
        "regressor = LinearRegression()\n",
        "regressor.fit(x_train, y_train)\n",
        "\n",
        "y_pred = regressor.predict(x_test)\n",
        "print(y_pred)\n",
        "\n",
        "#visualizing the results\n",
        "\n",
        "plt.scatter(x_train, y_train, color = 'red')\n",
        "plt.plot(x_train, regressor.predict(x_train), color = 'blue')\n",
        "plt.title('Salary vs Experience')\n",
        "plt.xlabel('Years of experience')\n",
        "plt.ylabel('Salary')\n",
        "plt.show()"
      ],
      "metadata": {
        "id": "bHv6NUBAtdNa"
      },
      "execution_count": null,
      "outputs": []
    }
  ]
}